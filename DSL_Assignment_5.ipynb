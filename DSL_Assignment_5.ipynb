{
  "nbformat": 4,
  "nbformat_minor": 0,
  "metadata": {
    "colab": {
      "name": "DSL Assignment 5.ipynb",
      "provenance": [],
      "collapsed_sections": []
    },
    "kernelspec": {
      "name": "python3",
      "display_name": "Python 3"
    }
  },
  "cells": [
    {
      "cell_type": "markdown",
      "metadata": {
        "id": "GKE9Z7CRKB5q"
      },
      "source": [
        "# **DSL Assignment No.5**\n",
        "\n",
        "Name: Samruddhi Desai\n",
        "\n",
        "Class: TY B3 (Comp)\n",
        "\n",
        "Roll no:322063\n",
        "\n",
        "GR No.: 21920035\n",
        "\n",
        "* **Importing libraries**\n",
        "* **Dataset used: Bodyfat.csv**\n",
        "\n"
      ]
    },
    {
      "cell_type": "code",
      "metadata": {
        "id": "WxbicgmeU0eB",
        "colab": {
          "base_uri": "https://localhost:8080/",
          "height": 348
        },
        "outputId": "69769e8a-ed2b-4319-e740-67d3fd55fe26"
      },
      "source": [
        "import pandas as pd \n",
        "import matplotlib.pyplot as plt \n",
        "data = pd.read_csv('/content/Bodyfat.csv')\n",
        "data"
      ],
      "execution_count": null,
      "outputs": [
        {
          "output_type": "execute_result",
          "data": {
            "text/html": [
              "<div>\n",
              "<style scoped>\n",
              "    .dataframe tbody tr th:only-of-type {\n",
              "        vertical-align: middle;\n",
              "    }\n",
              "\n",
              "    .dataframe tbody tr th {\n",
              "        vertical-align: top;\n",
              "    }\n",
              "\n",
              "    .dataframe thead th {\n",
              "        text-align: right;\n",
              "    }\n",
              "</style>\n",
              "<table border=\"1\" class=\"dataframe\">\n",
              "  <thead>\n",
              "    <tr style=\"text-align: right;\">\n",
              "      <th></th>\n",
              "      <th>bodyfat</th>\n",
              "      <th>Gender</th>\n",
              "      <th>Age</th>\n",
              "      <th>Weight</th>\n",
              "      <th>Height</th>\n",
              "    </tr>\n",
              "  </thead>\n",
              "  <tbody>\n",
              "    <tr>\n",
              "      <th>0</th>\n",
              "      <td>12.3</td>\n",
              "      <td>Male</td>\n",
              "      <td>23</td>\n",
              "      <td>154.25</td>\n",
              "      <td>67.75</td>\n",
              "    </tr>\n",
              "    <tr>\n",
              "      <th>1</th>\n",
              "      <td>6.1</td>\n",
              "      <td>Male</td>\n",
              "      <td>22</td>\n",
              "      <td>173.25</td>\n",
              "      <td>72.25</td>\n",
              "    </tr>\n",
              "    <tr>\n",
              "      <th>2</th>\n",
              "      <td>25.3</td>\n",
              "      <td>Female</td>\n",
              "      <td>22</td>\n",
              "      <td>154.00</td>\n",
              "      <td>66.25</td>\n",
              "    </tr>\n",
              "    <tr>\n",
              "      <th>3</th>\n",
              "      <td>10.4</td>\n",
              "      <td>Male</td>\n",
              "      <td>26</td>\n",
              "      <td>184.75</td>\n",
              "      <td>72.25</td>\n",
              "    </tr>\n",
              "    <tr>\n",
              "      <th>4</th>\n",
              "      <td>28.7</td>\n",
              "      <td>Male</td>\n",
              "      <td>24</td>\n",
              "      <td>184.25</td>\n",
              "      <td>71.25</td>\n",
              "    </tr>\n",
              "    <tr>\n",
              "      <th>5</th>\n",
              "      <td>20.9</td>\n",
              "      <td>Male</td>\n",
              "      <td>24</td>\n",
              "      <td>210.25</td>\n",
              "      <td>74.75</td>\n",
              "    </tr>\n",
              "    <tr>\n",
              "      <th>6</th>\n",
              "      <td>19.2</td>\n",
              "      <td>Female</td>\n",
              "      <td>26</td>\n",
              "      <td>181.00</td>\n",
              "      <td>69.75</td>\n",
              "    </tr>\n",
              "    <tr>\n",
              "      <th>7</th>\n",
              "      <td>12.4</td>\n",
              "      <td>Female</td>\n",
              "      <td>25</td>\n",
              "      <td>176.00</td>\n",
              "      <td>72.50</td>\n",
              "    </tr>\n",
              "    <tr>\n",
              "      <th>8</th>\n",
              "      <td>4.1</td>\n",
              "      <td>Female</td>\n",
              "      <td>25</td>\n",
              "      <td>191.00</td>\n",
              "      <td>74.00</td>\n",
              "    </tr>\n",
              "    <tr>\n",
              "      <th>9</th>\n",
              "      <td>11.7</td>\n",
              "      <td>Female</td>\n",
              "      <td>23</td>\n",
              "      <td>198.25</td>\n",
              "      <td>73.50</td>\n",
              "    </tr>\n",
              "  </tbody>\n",
              "</table>\n",
              "</div>"
            ],
            "text/plain": [
              "   bodyfat  Gender  Age  Weight  Height\n",
              "0     12.3    Male   23  154.25   67.75\n",
              "1      6.1    Male   22  173.25   72.25\n",
              "2     25.3  Female   22  154.00   66.25\n",
              "3     10.4    Male   26  184.75   72.25\n",
              "4     28.7    Male   24  184.25   71.25\n",
              "5     20.9    Male   24  210.25   74.75\n",
              "6     19.2  Female   26  181.00   69.75\n",
              "7     12.4  Female   25  176.00   72.50\n",
              "8      4.1  Female   25  191.00   74.00\n",
              "9     11.7  Female   23  198.25   73.50"
            ]
          },
          "metadata": {
            "tags": []
          },
          "execution_count": 1
        }
      ]
    },
    {
      "cell_type": "markdown",
      "metadata": {
        "id": "RvsmhUOYWlLI"
      },
      "source": [
        "**Histogram**"
      ]
    },
    {
      "cell_type": "code",
      "metadata": {
        "id": "RaZK-fJUVfqX",
        "colab": {
          "base_uri": "https://localhost:8080/",
          "height": 281
        },
        "outputId": "37dea5b7-26e3-4e24-c77d-136bf071662b"
      },
      "source": [
        "import pandas as pd \n",
        "import matplotlib.pyplot as plt \n",
        "data.hist()\n",
        "plt.show()"
      ],
      "execution_count": null,
      "outputs": [
        {
          "output_type": "display_data",
          "data": {
            "image/png": "[encoded data removed]",
            "text/plain": [
              "<Figure size 432x288 with 4 Axes>"
            ]
          },
          "metadata": {
            "tags": [],
            "needs_background": "light"
          }
        }
      ]
    },
    {
      "cell_type": "markdown",
      "metadata": {
        "id": "WGZot5BDWbRy"
      },
      "source": [
        "**Column Chart**"
      ]
    },
    {
      "cell_type": "code",
      "metadata": {
        "id": "bhJo7K5kVmWM",
        "colab": {
          "base_uri": "https://localhost:8080/",
          "height": 276
        },
        "outputId": "941d8808-944e-48a5-cc7e-c0c1f9ad198b"
      },
      "source": [
        "data.plot.bar()\n",
        "plt.bar(data['Weight'], data['Height']) \n",
        "plt.xlabel(\"Weight\") \n",
        "plt.ylabel(\"Height\") \n",
        "plt.show() "
      ],
      "execution_count": null,
      "outputs": [
        {
          "output_type": "display_data",
          "data": {
            "image/png": "[encoded data removed]",
            "text/plain": [
              "<Figure size 432x288 with 1 Axes>"
            ]
          },
          "metadata": {
            "tags": [],
            "needs_background": "light"
          }
        }
      ]
    },
    {
      "cell_type": "markdown",
      "metadata": {
        "id": "6ChdStCbWSMA"
      },
      "source": [
        "**Box plot chart**"
      ]
    },
    {
      "cell_type": "code",
      "metadata": {
        "id": "zfKi0GxuVu2n",
        "colab": {
          "base_uri": "https://localhost:8080/",
          "height": 265
        },
        "outputId": "7e810d32-d797-4fa9-bea5-14742998ef7f"
      },
      "source": [
        "data.plot.box() \n",
        "  \n",
        "# individual attribute box plot \n",
        "plt.boxplot(data['bodyfat']) \n",
        "plt.show()"
      ],
      "execution_count": null,
      "outputs": [
        {
          "output_type": "display_data",
          "data": {
            "image/png": "[encoded data removed]",
            "text/plain": [
              "<Figure size 432x288 with 1 Axes>"
            ]
          },
          "metadata": {
            "tags": [],
            "needs_background": "light"
          }
        }
      ]
    },
    {
      "cell_type": "markdown",
      "metadata": {
        "id": "5ep_YAeSWO0u"
      },
      "source": [
        "**pie chart**"
      ]
    },
    {
      "cell_type": "code",
      "metadata": {
        "id": "lNT2dfyOV5iA",
        "colab": {
          "base_uri": "https://localhost:8080/",
          "height": 248
        },
        "outputId": "114c729f-97d2-4f0e-9d27-93de3a1d307d"
      },
      "source": [
        "plt.pie(data['Weight'], \n",
        "                               \n",
        "autopct ='% 1.1f %%', shadow = True) \n",
        "plt.show()"
      ],
      "execution_count": null,
      "outputs": [
        {
          "output_type": "display_data",
          "data": {
            "image/png": "[encoded data removed]",
            "text/plain": [
              "<Figure size 432x288 with 1 Axes>"
            ]
          },
          "metadata": {
            "tags": []
          }
        }
      ]
    },
    {
      "cell_type": "markdown",
      "metadata": {
        "id": "OMhkux21WAHD"
      },
      "source": [
        "**Scatter plot**"
      ]
    },
    {
      "cell_type": "code",
      "metadata": {
        "id": "Lr_VINRyWAXT",
        "colab": {
          "base_uri": "https://localhost:8080/",
          "height": 265
        },
        "outputId": "36cf52e5-3317-44f4-ccb1-afe0bc798a57"
      },
      "source": [
        "plt.scatter(data['Weight'], data['Height']) \n",
        "plt.show() \n",
        "   "
      ],
      "execution_count": null,
      "outputs": [
        {
          "output_type": "display_data",
          "data": {
            "image/png": "[encoded data removed]",
            "text/plain": [
              "<Figure size 432x288 with 1 Axes>"
            ]
          },
          "metadata": {
            "tags": [],
            "needs_background": "light"
          }
        }
      ]
    },
    {
      "cell_type": "code",
      "metadata": {
        "id": "JIn7EymhV2IV"
      },
      "source": [
        ""
      ],
      "execution_count": null,
      "outputs": []
    }
  ]
}