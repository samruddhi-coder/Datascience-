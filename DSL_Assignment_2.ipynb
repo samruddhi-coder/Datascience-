{
  "nbformat": 4,
  "nbformat_minor": 0,
  "metadata": {
    "colab": {
      "name": "DSL Assignment 2.ipynb",
      "provenance": [],
      "collapsed_sections": []
    },
    "kernelspec": {
      "name": "python3",
      "display_name": "Python 3"
    }
  },
  "cells": [
    {
      "cell_type": "markdown",
      "metadata": {
        "id": "abk9rPKJPu8v"
      },
      "source": [
        "# **DSL Assignment No.2**\n",
        "\n",
        "Name: Samruddhi Desai\n",
        "\n",
        "Class: TY B3 (Comp)\n",
        "\n",
        "Roll no:322063\n",
        "\n",
        "GR No.: 21920035\n",
        "\n",
        "\n",
        "* **Importing libraries**\n",
        "* **Dataset used: employees.csv**\n",
        "\n"
      ]
    },
    {
      "cell_type": "code",
      "metadata": {
        "id": "guzH7KwoPze7",
        "colab": {
          "base_uri": "https://localhost:8080/",
          "height": 419
        },
        "outputId": "75f607ff-1b0b-44a3-f7e5-8cf28ca163ca"
      },
      "source": [
        "import pandas as pd\n",
        "import numpy as np\n",
        "import matplotlib.pyplot as plt\n",
        "df = pd.read_csv('/content/employees.csv')\n",
        "df "
      ],
      "execution_count": null,
      "outputs": [
        {
          "output_type": "execute_result",
          "data": {
            "text/html": [
              "<div>\n",
              "<style scoped>\n",
              "    .dataframe tbody tr th:only-of-type {\n",
              "        vertical-align: middle;\n",
              "    }\n",
              "\n",
              "    .dataframe tbody tr th {\n",
              "        vertical-align: top;\n",
              "    }\n",
              "\n",
              "    .dataframe thead th {\n",
              "        text-align: right;\n",
              "    }\n",
              "</style>\n",
              "<table border=\"1\" class=\"dataframe\">\n",
              "  <thead>\n",
              "    <tr style=\"text-align: right;\">\n",
              "      <th></th>\n",
              "      <th>First Name</th>\n",
              "      <th>Gender</th>\n",
              "      <th>Start Date</th>\n",
              "      <th>Last Login Time</th>\n",
              "      <th>Salary</th>\n",
              "      <th>Bonus %</th>\n",
              "      <th>Senior Management</th>\n",
              "      <th>Team</th>\n",
              "    </tr>\n",
              "  </thead>\n",
              "  <tbody>\n",
              "    <tr>\n",
              "      <th>0</th>\n",
              "      <td>Douglas</td>\n",
              "      <td>Male</td>\n",
              "      <td>8/6/1993</td>\n",
              "      <td>12:42 PM</td>\n",
              "      <td>97308</td>\n",
              "      <td>6.945</td>\n",
              "      <td>True</td>\n",
              "      <td>Marketing</td>\n",
              "    </tr>\n",
              "    <tr>\n",
              "      <th>1</th>\n",
              "      <td>Thomas</td>\n",
              "      <td>Male</td>\n",
              "      <td>3/31/1996</td>\n",
              "      <td>6:53 AM</td>\n",
              "      <td>61933</td>\n",
              "      <td>4.170</td>\n",
              "      <td>True</td>\n",
              "      <td>NaN</td>\n",
              "    </tr>\n",
              "    <tr>\n",
              "      <th>2</th>\n",
              "      <td>Maria</td>\n",
              "      <td>Female</td>\n",
              "      <td>4/23/1993</td>\n",
              "      <td>11:17 AM</td>\n",
              "      <td>130590</td>\n",
              "      <td>11.858</td>\n",
              "      <td>False</td>\n",
              "      <td>Finance</td>\n",
              "    </tr>\n",
              "    <tr>\n",
              "      <th>3</th>\n",
              "      <td>Jerry</td>\n",
              "      <td>Male</td>\n",
              "      <td>3/4/2005</td>\n",
              "      <td>1:00 PM</td>\n",
              "      <td>138705</td>\n",
              "      <td>9.340</td>\n",
              "      <td>True</td>\n",
              "      <td>Finance</td>\n",
              "    </tr>\n",
              "    <tr>\n",
              "      <th>4</th>\n",
              "      <td>Larry</td>\n",
              "      <td>Male</td>\n",
              "      <td>1/24/1998</td>\n",
              "      <td>4:47 PM</td>\n",
              "      <td>101004</td>\n",
              "      <td>1.389</td>\n",
              "      <td>True</td>\n",
              "      <td>Client Services</td>\n",
              "    </tr>\n",
              "    <tr>\n",
              "      <th>...</th>\n",
              "      <td>...</td>\n",
              "      <td>...</td>\n",
              "      <td>...</td>\n",
              "      <td>...</td>\n",
              "      <td>...</td>\n",
              "      <td>...</td>\n",
              "      <td>...</td>\n",
              "      <td>...</td>\n",
              "    </tr>\n",
              "    <tr>\n",
              "      <th>995</th>\n",
              "      <td>Henry</td>\n",
              "      <td>NaN</td>\n",
              "      <td>11/23/2014</td>\n",
              "      <td>6:09 AM</td>\n",
              "      <td>132483</td>\n",
              "      <td>16.655</td>\n",
              "      <td>False</td>\n",
              "      <td>Distribution</td>\n",
              "    </tr>\n",
              "    <tr>\n",
              "      <th>996</th>\n",
              "      <td>Phillip</td>\n",
              "      <td>Male</td>\n",
              "      <td>1/31/1984</td>\n",
              "      <td>6:30 AM</td>\n",
              "      <td>42392</td>\n",
              "      <td>19.675</td>\n",
              "      <td>False</td>\n",
              "      <td>Finance</td>\n",
              "    </tr>\n",
              "    <tr>\n",
              "      <th>997</th>\n",
              "      <td>Russell</td>\n",
              "      <td>Male</td>\n",
              "      <td>5/20/2013</td>\n",
              "      <td>12:39 PM</td>\n",
              "      <td>96914</td>\n",
              "      <td>1.421</td>\n",
              "      <td>False</td>\n",
              "      <td>Product</td>\n",
              "    </tr>\n",
              "    <tr>\n",
              "      <th>998</th>\n",
              "      <td>Larry</td>\n",
              "      <td>Male</td>\n",
              "      <td>4/20/2013</td>\n",
              "      <td>4:45 PM</td>\n",
              "      <td>60500</td>\n",
              "      <td>11.985</td>\n",
              "      <td>False</td>\n",
              "      <td>Business Development</td>\n",
              "    </tr>\n",
              "    <tr>\n",
              "      <th>999</th>\n",
              "      <td>Albert</td>\n",
              "      <td>Male</td>\n",
              "      <td>5/15/2012</td>\n",
              "      <td>6:24 PM</td>\n",
              "      <td>129949</td>\n",
              "      <td>10.169</td>\n",
              "      <td>True</td>\n",
              "      <td>Sales</td>\n",
              "    </tr>\n",
              "  </tbody>\n",
              "</table>\n",
              "<p>1000 rows × 8 columns</p>\n",
              "</div>"
            ],
            "text/plain": [
              "    First Name  Gender  ... Senior Management                  Team\n",
              "0      Douglas    Male  ...              True             Marketing\n",
              "1       Thomas    Male  ...              True                   NaN\n",
              "2        Maria  Female  ...             False               Finance\n",
              "3        Jerry    Male  ...              True               Finance\n",
              "4        Larry    Male  ...              True       Client Services\n",
              "..         ...     ...  ...               ...                   ...\n",
              "995      Henry     NaN  ...             False          Distribution\n",
              "996    Phillip    Male  ...             False               Finance\n",
              "997    Russell    Male  ...             False               Product\n",
              "998      Larry    Male  ...             False  Business Development\n",
              "999     Albert    Male  ...              True                 Sales\n",
              "\n",
              "[1000 rows x 8 columns]"
            ]
          },
          "metadata": {
            "tags": []
          },
          "execution_count": 1
        }
      ]
    },
    {
      "cell_type": "markdown",
      "metadata": {
        "id": "RlSVZNIvJ58P"
      },
      "source": [
        "**Displaying first 6 elments** "
      ]
    },
    {
      "cell_type": "code",
      "metadata": {
        "id": "I5d26T_pQhEI",
        "colab": {
          "base_uri": "https://localhost:8080/",
          "height": 235
        },
        "outputId": "e4111189-14cc-4404-d1a9-298cf807c1f3"
      },
      "source": [
        "df[0:6]"
      ],
      "execution_count": null,
      "outputs": [
        {
          "output_type": "execute_result",
          "data": {
            "text/html": [
              "<div>\n",
              "<style scoped>\n",
              "    .dataframe tbody tr th:only-of-type {\n",
              "        vertical-align: middle;\n",
              "    }\n",
              "\n",
              "    .dataframe tbody tr th {\n",
              "        vertical-align: top;\n",
              "    }\n",
              "\n",
              "    .dataframe thead th {\n",
              "        text-align: right;\n",
              "    }\n",
              "</style>\n",
              "<table border=\"1\" class=\"dataframe\">\n",
              "  <thead>\n",
              "    <tr style=\"text-align: right;\">\n",
              "      <th></th>\n",
              "      <th>First Name</th>\n",
              "      <th>Gender</th>\n",
              "      <th>Start Date</th>\n",
              "      <th>Last Login Time</th>\n",
              "      <th>Salary</th>\n",
              "      <th>Bonus %</th>\n",
              "      <th>Senior Management</th>\n",
              "      <th>Team</th>\n",
              "    </tr>\n",
              "  </thead>\n",
              "  <tbody>\n",
              "    <tr>\n",
              "      <th>0</th>\n",
              "      <td>Douglas</td>\n",
              "      <td>Male</td>\n",
              "      <td>8/6/1993</td>\n",
              "      <td>12:42 PM</td>\n",
              "      <td>97308</td>\n",
              "      <td>6.945</td>\n",
              "      <td>True</td>\n",
              "      <td>Marketing</td>\n",
              "    </tr>\n",
              "    <tr>\n",
              "      <th>1</th>\n",
              "      <td>Thomas</td>\n",
              "      <td>Male</td>\n",
              "      <td>3/31/1996</td>\n",
              "      <td>6:53 AM</td>\n",
              "      <td>61933</td>\n",
              "      <td>4.170</td>\n",
              "      <td>True</td>\n",
              "      <td>NaN</td>\n",
              "    </tr>\n",
              "    <tr>\n",
              "      <th>2</th>\n",
              "      <td>Maria</td>\n",
              "      <td>Female</td>\n",
              "      <td>4/23/1993</td>\n",
              "      <td>11:17 AM</td>\n",
              "      <td>130590</td>\n",
              "      <td>11.858</td>\n",
              "      <td>False</td>\n",
              "      <td>Finance</td>\n",
              "    </tr>\n",
              "    <tr>\n",
              "      <th>3</th>\n",
              "      <td>Jerry</td>\n",
              "      <td>Male</td>\n",
              "      <td>3/4/2005</td>\n",
              "      <td>1:00 PM</td>\n",
              "      <td>138705</td>\n",
              "      <td>9.340</td>\n",
              "      <td>True</td>\n",
              "      <td>Finance</td>\n",
              "    </tr>\n",
              "    <tr>\n",
              "      <th>4</th>\n",
              "      <td>Larry</td>\n",
              "      <td>Male</td>\n",
              "      <td>1/24/1998</td>\n",
              "      <td>4:47 PM</td>\n",
              "      <td>101004</td>\n",
              "      <td>1.389</td>\n",
              "      <td>True</td>\n",
              "      <td>Client Services</td>\n",
              "    </tr>\n",
              "    <tr>\n",
              "      <th>5</th>\n",
              "      <td>Dennis</td>\n",
              "      <td>Male</td>\n",
              "      <td>4/18/1987</td>\n",
              "      <td>1:35 AM</td>\n",
              "      <td>115163</td>\n",
              "      <td>10.125</td>\n",
              "      <td>False</td>\n",
              "      <td>Legal</td>\n",
              "    </tr>\n",
              "  </tbody>\n",
              "</table>\n",
              "</div>"
            ],
            "text/plain": [
              "  First Name  Gender Start Date  ... Bonus %  Senior Management             Team\n",
              "0    Douglas    Male   8/6/1993  ...   6.945               True        Marketing\n",
              "1     Thomas    Male  3/31/1996  ...   4.170               True              NaN\n",
              "2      Maria  Female  4/23/1993  ...  11.858              False          Finance\n",
              "3      Jerry    Male   3/4/2005  ...   9.340               True          Finance\n",
              "4      Larry    Male  1/24/1998  ...   1.389               True  Client Services\n",
              "5     Dennis    Male  4/18/1987  ...  10.125              False            Legal\n",
              "\n",
              "[6 rows x 8 columns]"
            ]
          },
          "metadata": {
            "tags": []
          },
          "execution_count": 2
        }
      ]
    },
    {
      "cell_type": "markdown",
      "metadata": {
        "id": "VwNksdIpKGKD"
      },
      "source": [
        "**Mean**"
      ]
    },
    {
      "cell_type": "code",
      "metadata": {
        "id": "5F3iVUd_QoJs",
        "colab": {
          "base_uri": "https://localhost:8080/"
        },
        "outputId": "58256825-d997-4a83-e38e-07b319c88af5"
      },
      "source": [
        "mean = df['Bonus %'].mean()\n",
        "print(mean)"
      ],
      "execution_count": null,
      "outputs": [
        {
          "output_type": "stream",
          "text": [
            "10.207555\n"
          ],
          "name": "stdout"
        }
      ]
    },
    {
      "cell_type": "code",
      "metadata": {
        "colab": {
          "base_uri": "https://localhost:8080/"
        },
        "id": "808aypOkH_zp",
        "outputId": "3d274b78-0b8d-429e-875a-14d6f3a1bd4b"
      },
      "source": [
        "print(df['Salary'].mean())\n"
      ],
      "execution_count": null,
      "outputs": [
        {
          "output_type": "stream",
          "text": [
            "90662.181\n"
          ],
          "name": "stdout"
        }
      ]
    },
    {
      "cell_type": "code",
      "metadata": {
        "colab": {
          "base_uri": "https://localhost:8080/"
        },
        "id": "cp43mSVvKPd2",
        "outputId": "f9f5c9e1-a9db-488b-a40e-98be215e5572"
      },
      "source": [
        "mean1=df['Salary'].mean()\n",
        "mean2=df['Bonus %'].mean()\n",
        "print(\"Salary mean=\",mean1)\n",
        "print(\"Bonus % mean=\",mean2)"
      ],
      "execution_count": null,
      "outputs": [
        {
          "output_type": "stream",
          "text": [
            "Salary mean= 90662.181\n",
            "Bonus % mean= 10.207555\n"
          ],
          "name": "stdout"
        }
      ]
    },
    {
      "cell_type": "markdown",
      "metadata": {
        "id": "FP-rZB6PKjm5"
      },
      "source": [
        "**Median**"
      ]
    },
    {
      "cell_type": "code",
      "metadata": {
        "id": "bcYRSQEMSH1K",
        "colab": {
          "base_uri": "https://localhost:8080/"
        },
        "outputId": "5d1c47fb-0415-4084-bb35-1f4fb1329d51"
      },
      "source": [
        "median = df['Bonus %'].median()\n",
        "print(median)"
      ],
      "execution_count": null,
      "outputs": [
        {
          "output_type": "stream",
          "text": [
            "9.8385\n"
          ],
          "name": "stdout"
        }
      ]
    },
    {
      "cell_type": "code",
      "metadata": {
        "colab": {
          "base_uri": "https://localhost:8080/"
        },
        "id": "bwAe9ehDIK77",
        "outputId": "237d5160-b758-4bc3-d59c-894f343a9e30"
      },
      "source": [
        "print(df['Salary'].median())"
      ],
      "execution_count": null,
      "outputs": [
        {
          "output_type": "stream",
          "text": [
            "90428.0\n"
          ],
          "name": "stdout"
        }
      ]
    },
    {
      "cell_type": "code",
      "metadata": {
        "colab": {
          "base_uri": "https://localhost:8080/"
        },
        "id": "emJ_Mb6ZKLk7",
        "outputId": "43f8b3ac-5fc4-4f96-e4b0-4a0e2d9e4b05"
      },
      "source": [
        "med1=df['Salary'].median()\n",
        "med2=df['Bonus %'].median()\n",
        "print(\"Salary median=\",med1)\n",
        "print(\"Bonus % median=\",med2)"
      ],
      "execution_count": null,
      "outputs": [
        {
          "output_type": "stream",
          "text": [
            "Salary median= 90428.0\n",
            "Bonus % median= 9.8385\n"
          ],
          "name": "stdout"
        }
      ]
    },
    {
      "cell_type": "markdown",
      "metadata": {
        "id": "TRYNayXDKoWQ"
      },
      "source": [
        "**Minimum value**"
      ]
    },
    {
      "cell_type": "code",
      "metadata": {
        "id": "60qirCjVSecI",
        "colab": {
          "base_uri": "https://localhost:8080/"
        },
        "outputId": "096db054-b11a-4373-afb6-9dac66fc4254"
      },
      "source": [
        "min = df['Bonus %'].min()\n",
        "print(min)"
      ],
      "execution_count": null,
      "outputs": [
        {
          "output_type": "stream",
          "text": [
            "1.015\n"
          ],
          "name": "stdout"
        }
      ]
    },
    {
      "cell_type": "code",
      "metadata": {
        "colab": {
          "base_uri": "https://localhost:8080/"
        },
        "id": "U5DwY6U5ITMe",
        "outputId": "eb095751-2375-4373-dff8-b10a717d7f67"
      },
      "source": [
        "print(df['Salary'].min())"
      ],
      "execution_count": null,
      "outputs": [
        {
          "output_type": "stream",
          "text": [
            "35013\n"
          ],
          "name": "stdout"
        }
      ]
    },
    {
      "cell_type": "code",
      "metadata": {
        "colab": {
          "base_uri": "https://localhost:8080/"
        },
        "id": "th9GgiTtJx8y",
        "outputId": "dc8b6676-23d2-41bf-9980-eb0762541ada"
      },
      "source": [
        "minn=df.min()\n",
        "minn"
      ],
      "execution_count": null,
      "outputs": [
        {
          "output_type": "execute_result",
          "data": {
            "text/plain": [
              "Start Date           1/1/2014\n",
              "Last Login Time      10:00 AM\n",
              "Salary                  35013\n",
              "Bonus %                 1.015\n",
              "Senior Management       False\n",
              "dtype: object"
            ]
          },
          "metadata": {
            "tags": []
          },
          "execution_count": 25
        }
      ]
    },
    {
      "cell_type": "markdown",
      "metadata": {
        "id": "ovGdUw-7Ktbe"
      },
      "source": [
        "**Maximum value**"
      ]
    },
    {
      "cell_type": "code",
      "metadata": {
        "id": "qfimCSU-UVEX",
        "colab": {
          "base_uri": "https://localhost:8080/"
        },
        "outputId": "0c8edac0-1f4d-40c8-a439-d7a6d39da174"
      },
      "source": [
        "max = df['Bonus %'].max()\n",
        "print(max)"
      ],
      "execution_count": null,
      "outputs": [
        {
          "output_type": "stream",
          "text": [
            "19.944000000000003\n"
          ],
          "name": "stdout"
        }
      ]
    },
    {
      "cell_type": "code",
      "metadata": {
        "colab": {
          "base_uri": "https://localhost:8080/"
        },
        "id": "X_3uDCTsIZmA",
        "outputId": "066e532d-7c76-49ed-dbc5-bb9805648662"
      },
      "source": [
        "print(df['Salary'].max())"
      ],
      "execution_count": null,
      "outputs": [
        {
          "output_type": "stream",
          "text": [
            "149908\n"
          ],
          "name": "stdout"
        }
      ]
    },
    {
      "cell_type": "code",
      "metadata": {
        "colab": {
          "base_uri": "https://localhost:8080/"
        },
        "id": "EM4EbkZKJ57B",
        "outputId": "c65c6dba-e940-4267-c55b-ecaa754837c2"
      },
      "source": [
        "maxx=df.max()\n",
        "maxx"
      ],
      "execution_count": null,
      "outputs": [
        {
          "output_type": "execute_result",
          "data": {
            "text/plain": [
              "Start Date           9/9/2006\n",
              "Last Login Time       9:59 AM\n",
              "Salary                 149908\n",
              "Bonus %                19.944\n",
              "Senior Management        True\n",
              "dtype: object"
            ]
          },
          "metadata": {
            "tags": []
          },
          "execution_count": 26
        }
      ]
    },
    {
      "cell_type": "markdown",
      "metadata": {
        "id": "aqWnnExTKzer"
      },
      "source": [
        "**Mode**"
      ]
    },
    {
      "cell_type": "code",
      "metadata": {
        "id": "F8o-5Z3SUuXj",
        "colab": {
          "base_uri": "https://localhost:8080/"
        },
        "outputId": "ea35e88a-3aa7-4d0e-c5fd-2034ae408b4a"
      },
      "source": [
        "mode = df['Gender'].mode() \n",
        " \n",
        "print(mode)"
      ],
      "execution_count": null,
      "outputs": [
        {
          "output_type": "stream",
          "text": [
            "0    Female\n",
            "dtype: object\n"
          ],
          "name": "stdout"
        }
      ]
    },
    {
      "cell_type": "markdown",
      "metadata": {
        "id": "_VO-CACTKyPY"
      },
      "source": [
        "**Count value**"
      ]
    },
    {
      "cell_type": "code",
      "metadata": {
        "id": "7FeRKu7bVRwv",
        "colab": {
          "base_uri": "https://localhost:8080/"
        },
        "outputId": "4d2dc690-8543-4e1f-963f-4bd48dcc2b3e"
      },
      "source": [
        "df['Bonus %'].count()"
      ],
      "execution_count": null,
      "outputs": [
        {
          "output_type": "execute_result",
          "data": {
            "text/plain": [
              "1000"
            ]
          },
          "metadata": {
            "tags": []
          },
          "execution_count": 9
        }
      ]
    },
    {
      "cell_type": "code",
      "metadata": {
        "colab": {
          "base_uri": "https://localhost:8080/"
        },
        "id": "cqyrF01mHvy1",
        "outputId": "23853d71-6e94-4107-c78a-1fb8ea0c3704"
      },
      "source": [
        "df['First Name'].count()"
      ],
      "execution_count": null,
      "outputs": [
        {
          "output_type": "execute_result",
          "data": {
            "text/plain": [
              "933"
            ]
          },
          "metadata": {
            "tags": []
          },
          "execution_count": 20
        }
      ]
    },
    {
      "cell_type": "markdown",
      "metadata": {
        "id": "FIiguwqsK8ZN"
      },
      "source": [
        "**Standard Deviation**"
      ]
    },
    {
      "cell_type": "code",
      "metadata": {
        "id": "yQ-RkN7DVgiO",
        "colab": {
          "base_uri": "https://localhost:8080/"
        },
        "outputId": "9b07a72f-f6e0-4092-d33e-b0ec4cb0009e"
      },
      "source": [
        "std = df['Bonus %'].std() \n",
        "  \n",
        "# Print standard deviation \n",
        "print(std) "
      ],
      "execution_count": null,
      "outputs": [
        {
          "output_type": "stream",
          "text": [
            "5.528480814753187\n"
          ],
          "name": "stdout"
        }
      ]
    },
    {
      "cell_type": "code",
      "metadata": {
        "colab": {
          "base_uri": "https://localhost:8080/"
        },
        "id": "8AwribybJ_Ev",
        "outputId": "f7caeff4-40a0-4053-ddd9-1e0801d9b658"
      },
      "source": [
        "std1=df['Salary'].std()\n",
        "std2=df['Bonus %'].std()\n",
        "print(\"Salary stddev=\",std1)\n",
        "print(\"Bonus % stddev=\",std2)"
      ],
      "execution_count": null,
      "outputs": [
        {
          "output_type": "stream",
          "text": [
            "Salary stddev= 32923.693342022234\n",
            "Bonus % stddev= 5.528480814753187\n"
          ],
          "name": "stdout"
        }
      ]
    },
    {
      "cell_type": "markdown",
      "metadata": {
        "id": "i_IwXNExL2dx"
      },
      "source": [
        "**displaying various statistical operation through descibe function**"
      ]
    },
    {
      "cell_type": "code",
      "metadata": {
        "id": "g7Ann9JAVnfw",
        "colab": {
          "base_uri": "https://localhost:8080/",
          "height": 297
        },
        "outputId": "56a58cad-b830-4f49-a573-947071071dc7"
      },
      "source": [
        "df.describe()"
      ],
      "execution_count": null,
      "outputs": [
        {
          "output_type": "execute_result",
          "data": {
            "text/html": [
              "<div>\n",
              "<style scoped>\n",
              "    .dataframe tbody tr th:only-of-type {\n",
              "        vertical-align: middle;\n",
              "    }\n",
              "\n",
              "    .dataframe tbody tr th {\n",
              "        vertical-align: top;\n",
              "    }\n",
              "\n",
              "    .dataframe thead th {\n",
              "        text-align: right;\n",
              "    }\n",
              "</style>\n",
              "<table border=\"1\" class=\"dataframe\">\n",
              "  <thead>\n",
              "    <tr style=\"text-align: right;\">\n",
              "      <th></th>\n",
              "      <th>Salary</th>\n",
              "      <th>Bonus %</th>\n",
              "    </tr>\n",
              "  </thead>\n",
              "  <tbody>\n",
              "    <tr>\n",
              "      <th>count</th>\n",
              "      <td>1000.000000</td>\n",
              "      <td>1000.000000</td>\n",
              "    </tr>\n",
              "    <tr>\n",
              "      <th>mean</th>\n",
              "      <td>90662.181000</td>\n",
              "      <td>10.207555</td>\n",
              "    </tr>\n",
              "    <tr>\n",
              "      <th>std</th>\n",
              "      <td>32923.693342</td>\n",
              "      <td>5.528481</td>\n",
              "    </tr>\n",
              "    <tr>\n",
              "      <th>min</th>\n",
              "      <td>35013.000000</td>\n",
              "      <td>1.015000</td>\n",
              "    </tr>\n",
              "    <tr>\n",
              "      <th>25%</th>\n",
              "      <td>62613.000000</td>\n",
              "      <td>5.401750</td>\n",
              "    </tr>\n",
              "    <tr>\n",
              "      <th>50%</th>\n",
              "      <td>90428.000000</td>\n",
              "      <td>9.838500</td>\n",
              "    </tr>\n",
              "    <tr>\n",
              "      <th>75%</th>\n",
              "      <td>118740.250000</td>\n",
              "      <td>14.838000</td>\n",
              "    </tr>\n",
              "    <tr>\n",
              "      <th>max</th>\n",
              "      <td>149908.000000</td>\n",
              "      <td>19.944000</td>\n",
              "    </tr>\n",
              "  </tbody>\n",
              "</table>\n",
              "</div>"
            ],
            "text/plain": [
              "              Salary      Bonus %\n",
              "count    1000.000000  1000.000000\n",
              "mean    90662.181000    10.207555\n",
              "std     32923.693342     5.528481\n",
              "min     35013.000000     1.015000\n",
              "25%     62613.000000     5.401750\n",
              "50%     90428.000000     9.838500\n",
              "75%    118740.250000    14.838000\n",
              "max    149908.000000    19.944000"
            ]
          },
          "metadata": {
            "tags": []
          },
          "execution_count": 11
        }
      ]
    },
    {
      "cell_type": "markdown",
      "metadata": {
        "id": "FnRE_S6LMle5"
      },
      "source": [
        "**Variance**"
      ]
    },
    {
      "cell_type": "code",
      "metadata": {
        "id": "cbXNpIl8g8tg",
        "colab": {
          "base_uri": "https://localhost:8080/"
        },
        "outputId": "5ebd335f-dd13-4968-c7fe-dfe99149ffdb"
      },
      "source": [
        "variance1=df['Salary'].var()\n",
        "variance2=df['Bonus %'].var()\n",
        "print(\"Salary variance=\",variance1)\n",
        "print(\"Bonus % variance=\",variance2)"
      ],
      "execution_count": null,
      "outputs": [
        {
          "output_type": "stream",
          "text": [
            "Salary variance= 1083969583.279519\n",
            "Bonus % variance= 30.56410011909406\n"
          ],
          "name": "stdout"
        }
      ]
    },
    {
      "cell_type": "markdown",
      "metadata": {
        "id": "Ht7C1M5ZMp2b"
      },
      "source": [
        "**Percentile**"
      ]
    },
    {
      "cell_type": "code",
      "metadata": {
        "id": "cjSfcapviJVg",
        "colab": {
          "base_uri": "https://localhost:8080/"
        },
        "outputId": "4bfd9259-ebfc-471d-c8cc-a6c20073529d"
      },
      "source": [
        "quantile1=df['Salary'].quantile()\n",
        "quantile2=df['Bonus %'].quantile()\n",
        "print(\"Salary quantile=\",quantile1)\n",
        "print(\"Bonus % quantile=\",quantile2)"
      ],
      "execution_count": null,
      "outputs": [
        {
          "output_type": "stream",
          "text": [
            "Salary quantile= 90428.0\n",
            "Bonus % quantile= 9.8385\n"
          ],
          "name": "stdout"
        }
      ]
    },
    {
      "cell_type": "markdown",
      "metadata": {
        "id": "tT4Sw3ycKdy1"
      },
      "source": [
        "**Histogram data**\n"
      ]
    },
    {
      "cell_type": "code",
      "metadata": {
        "colab": {
          "base_uri": "https://localhost:8080/",
          "height": 281
        },
        "id": "bVayIDmDgIJc",
        "outputId": "335a39bb-4f6a-4d6d-9197-95f0b8727d7e"
      },
      "source": [
        "import pandas as pd \n",
        "import matplotlib.pyplot as plt \n",
        "df.hist()\n",
        "plt.show()"
      ],
      "execution_count": null,
      "outputs": [
        {
          "output_type": "display_data",
          "data": {
            "image/png": "[encoded data removed]",
            "text/plain": [
              "<Figure size 432x288 with 2 Axes>"
            ]
          },
          "metadata": {
            "tags": [],
            "needs_background": "light"
          }
        }
      ]
    }
  ]
}